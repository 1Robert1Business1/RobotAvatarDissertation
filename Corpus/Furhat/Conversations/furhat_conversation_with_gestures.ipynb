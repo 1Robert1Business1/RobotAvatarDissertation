{
 "cells": [
  {
   "cell_type": "markdown",
   "metadata": {},
   "source": [
    "# Basic Conversation"
   ]
  },
  {
   "cell_type": "code",
   "execution_count": 7,
   "metadata": {},
   "outputs": [
    {
     "data": {
      "text/plain": [
       "{'message': 'Successfully changed my LEDs', 'success': True}"
      ]
     },
     "execution_count": 7,
     "metadata": {},
     "output_type": "execute_result"
    }
   ],
   "source": [
    "from furhat_remote_api import FurhatRemoteAPI\n",
    "import time\n",
    "\n",
    "# Connect to the Furhat robot\n",
    "furhat = FurhatRemoteAPI(\"localhost\")\n",
    "\n",
    "# Function to listen with a timeout\n",
    "def listen_with_timeout(timeout=10):\n",
    "    start_time = time.time()\n",
    "    while True:\n",
    "        response = furhat.listen()\n",
    "        if response.message or (time.time() - start_time) > timeout:\n",
    "            return response\n",
    "\n",
    "# Start the conversation with a smile gesture\n",
    "furhat.gesture(name=\"Smile\")\n",
    "furhat.say(text=\"Hello! How are you today?\")\n",
    "\n",
    "# Listen to the user's response with a 10-second timeout\n",
    "response = listen_with_timeout(timeout=10)\n",
    "\n",
    "# Check the response and respond accordingly with gestures\n",
    "if response.message and (\"good\" in response.message.lower() or \"great\" in response.message.lower()):\n",
    "    furhat.gesture(name=\"BigSmile\")\n",
    "    furhat.say(text=\"I'm glad to hear that! What can I help you with today?\")\n",
    "elif response.message and (\"not good\" in response.message.lower() or \"bad\" in response.message.lower()):\n",
    "    furhat.gesture(name=\"ExpressSad\")\n",
    "    furhat.say(text=\"I'm sorry to hear that. Is there anything I can do to make your day better?\")\n",
    "elif response.message:\n",
    "    furhat.gesture(name=\"Thoughtful\")\n",
    "    furhat.say(text=\"I see. How can I assist you today?\")\n",
    "else:  # No response or unrecognized input\n",
    "    furhat.gesture(name=\"BrowFrown\")\n",
    "    furhat.say(text=\"I didn't quite catch that. How are you feeling today?\")\n",
    "\n",
    "# Listen to the user's request with a 10-second timeout\n",
    "request = listen_with_timeout(timeout=10)\n",
    "\n",
    "# Respond to the request based on keywords with gestures\n",
    "if request.message and \"help\" in request.message.lower():\n",
    "    furhat.gesture(name=\"Nod\")\n",
    "    furhat.say(text=\"I'm here to help! What do you need assistance with?\")\n",
    "elif request.message and \"info\" in request.message.lower():\n",
    "    furhat.gesture(name=\"Thoughtful\")\n",
    "    furhat.say(text=\"Sure! I can provide you with information. What would you like to know?\")\n",
    "elif request.message:\n",
    "    furhat.gesture(name=\"Smile\")\n",
    "    furhat.say(text=\"I'll do my best to help you with that.\")\n",
    "else:  # No response or unrecognized input\n",
    "    furhat.gesture(name=\"Shake\")\n",
    "    furhat.say(text=\"It seems like I didn't hear you. Could you please repeat that?\")\n",
    "\n",
    "# Perform a nod gesture to acknowledge\n",
    "furhat.gesture(name=\"Nod\")\n",
    "\n",
    "# Ask another question\n",
    "furhat.say(text=\"Is there anything else you need?\")\n",
    "\n",
    "# Listen to the user's response with a 10-second timeout\n",
    "response2 = listen_with_timeout(timeout=10)\n",
    "\n",
    "# Respond based on the user's answer with gestures\n",
    "if response2.message and \"no\" in response2.message.lower():\n",
    "    furhat.gesture(name=\"BigSmile\")\n",
    "    furhat.say(text=\"Alright, I'm glad I could assist you today!\")\n",
    "elif response2.message and \"yes\" in response2.message.lower():\n",
    "    furhat.gesture(name=\"Nod\")\n",
    "    furhat.say(text=\"Sure, I'm here to help. What else do you need?\")\n",
    "elif response2.message:\n",
    "    furhat.gesture(name=\"Smile\")\n",
    "    furhat.say(text=\"I'm here to assist with anything you need.\")\n",
    "else:  # No response or unrecognized input\n",
    "    furhat.gesture(name=\"Shake\")\n",
    "    furhat.say(text=\"If you need anything later, feel free to ask!\")\n",
    "\n",
    "# Conclude the conversation with a smile gesture\n",
    "furhat.gesture(name=\"Smile\")\n",
    "furhat.say(text=\"Thank you for chatting with me. Have a great day!\")\n",
    "\n",
    "# Set the LED lights to a neutral color (indicating the conversation is over)\n",
    "furhat.set_led(red=100, green=100, blue=100)"
   ]
  }
 ],
 "metadata": {
  "kernelspec": {
   "display_name": "Python 3",
   "language": "python",
   "name": "python3"
  },
  "language_info": {
   "codemirror_mode": {
    "name": "ipython",
    "version": 3
   },
   "file_extension": ".py",
   "mimetype": "text/x-python",
   "name": "python",
   "nbconvert_exporter": "python",
   "pygments_lexer": "ipython3",
   "version": "3.11.9"
  }
 },
 "nbformat": 4,
 "nbformat_minor": 2
}
