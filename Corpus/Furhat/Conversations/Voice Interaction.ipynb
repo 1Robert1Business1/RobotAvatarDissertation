{
 "cells": [
  {
   "cell_type": "markdown",
   "metadata": {},
   "source": [
    "# Voice Interaction"
   ]
  },
  {
   "cell_type": "markdown",
   "metadata": {},
   "source": [
    "****"
   ]
  },
  {
   "cell_type": "markdown",
   "metadata": {},
   "source": [
    "**First Attempts to Allow a voice to be selected and implemented without using the Furhat Studio directly**"
   ]
  },
  {
   "cell_type": "code",
   "execution_count": 11,
   "metadata": {},
   "outputs": [
    {
     "name": "stdout",
     "output_type": "stream",
     "text": [
      "Available voices:\n",
      "1: {'language': 'fr-BE', 'name': 'Isabelle-Neural'}\n",
      "2: {'language': 'en-US', 'name': 'Danielle-Neural'}\n",
      "3: {'language': 'en-US', 'name': 'Gregory-Neural'}\n",
      "4: {'language': 'tr-TR', 'name': 'Burcu-Neural'}\n",
      "5: {'language': 'en-US', 'name': 'Kevin-Neural'}\n",
      "6: {'language': 'tr-TR', 'name': 'Filiz'}\n",
      "7: {'language': 'sv-SE', 'name': 'Elin-Neural'}\n",
      "8: {'language': 'sv-SE', 'name': 'Astrid'}\n",
      "9: {'language': 'ru-RU', 'name': 'Tatyana'}\n",
      "10: {'language': 'ru-RU', 'name': 'Maxim'}\n",
      "11: {'language': 'ro-RO', 'name': 'Carmen'}\n",
      "12: {'language': 'pt-PT', 'name': 'Ines-Neural'}\n",
      "13: {'language': 'pt-PT', 'name': 'Ines'}\n",
      "14: {'language': 'pt-PT', 'name': 'Cristiano'}\n",
      "15: {'language': 'pt-BR', 'name': 'Vitoria-Neural'}\n",
      "16: {'language': 'pt-BR', 'name': 'Vitoria'}\n",
      "17: {'language': 'pt-BR', 'name': 'Ricardo'}\n",
      "18: {'language': 'pt-BR', 'name': 'Camila-Neural'}\n",
      "19: {'language': 'pt-BR', 'name': 'Camila'}\n",
      "20: {'language': 'pl-PL', 'name': 'Maja'}\n",
      "21: {'language': 'pl-PL', 'name': 'Jan'}\n",
      "22: {'language': 'pl-PL', 'name': 'Jacek'}\n",
      "23: {'language': 'pl-PL', 'name': 'Ewa'}\n",
      "24: {'language': 'pl-PL', 'name': 'Ola-Neural'}\n",
      "25: {'language': 'nl-BE', 'name': 'Lisa-Neural'}\n",
      "26: {'language': 'nl-NL', 'name': 'Ruben'}\n",
      "27: {'language': 'nl-NL', 'name': 'Lotte'}\n",
      "28: {'language': 'nl-NL', 'name': 'Laura-Neural'}\n",
      "29: {'language': 'nb-NO', 'name': 'Ida-Neural'}\n",
      "30: {'language': 'nb-NO', 'name': 'Liv'}\n",
      "31: {'language': 'ko-KR', 'name': 'Seoyeon-Neural'}\n",
      "32: {'language': 'ko-KR', 'name': 'Seoyeon'}\n",
      "33: {'language': 'ja-JP', 'name': 'Kazuha-Neural'}\n",
      "34: {'language': 'ja-JP', 'name': 'Tomoko-Neural'}\n",
      "35: {'language': 'ja-JP', 'name': 'Takumi-Neural'}\n",
      "36: {'language': 'ja-JP', 'name': 'Takumi'}\n",
      "37: {'language': 'ja-JP', 'name': 'Mizuki'}\n",
      "38: {'language': 'it-IT', 'name': 'Bianca-Neural'}\n",
      "39: {'language': 'it-IT', 'name': 'Bianca'}\n",
      "40: {'language': 'it-IT', 'name': 'Giorgio'}\n",
      "41: {'language': 'it-IT', 'name': 'Carla'}\n",
      "42: {'language': 'is-IS', 'name': 'Karl'}\n",
      "43: {'language': 'is-IS', 'name': 'Dora'}\n",
      "44: {'language': 'fr-FR', 'name': 'Mathieu'}\n",
      "45: {'language': 'fr-FR', 'name': 'Lea-Neural'}\n",
      "46: {'language': 'fr-FR', 'name': 'Lea'}\n",
      "47: {'language': 'fr-FR', 'name': 'Celine'}\n",
      "48: {'language': 'fr-CA', 'name': 'Chantal'}\n",
      "49: {'language': 'fr-CA', 'name': 'Gabrielle-Neural'}\n",
      "50: {'language': 'es-US', 'name': 'Penelope'}\n",
      "51: {'language': 'es-MX', 'name': 'Miguel'}\n",
      "52: {'language': 'es-US', 'name': 'Lupe-Neural'}\n",
      "53: {'language': 'es-MX', 'name': 'Lupe'}\n",
      "54: {'language': 'es-MX', 'name': 'Mia-Neural'}\n",
      "55: {'language': 'es-MX', 'name': 'Mia'}\n",
      "56: {'language': 'es-ES', 'name': 'Lucia-Neural'}\n",
      "57: {'language': 'es-ES', 'name': 'Lucia'}\n",
      "58: {'language': 'es-ES', 'name': 'Enrique'}\n",
      "59: {'language': 'es-ES', 'name': 'Conchita'}\n",
      "60: {'language': 'en-GB-WLS', 'name': 'Geraint'}\n",
      "61: {'language': 'en-US', 'name': 'Salli-Neural'}\n",
      "62: {'language': 'en-US', 'name': 'Salli'}\n",
      "63: {'language': 'en-US', 'name': 'Matthew-Neural'}\n",
      "64: {'language': 'en-US', 'name': 'Matthew'}\n",
      "65: {'language': 'en-US', 'name': 'Kimberly-Neural'}\n",
      "66: {'language': 'en-US', 'name': 'Kimberly'}\n",
      "67: {'language': 'en-US', 'name': 'Kendra-Neural'}\n",
      "68: {'language': 'en-US', 'name': 'Kendra'}\n",
      "69: {'language': 'en-US', 'name': 'Justin-Neural'}\n",
      "70: {'language': 'en-US', 'name': 'Justin'}\n",
      "71: {'language': 'en-US', 'name': 'Joey-Neural'}\n",
      "72: {'language': 'en-US', 'name': 'Joey'}\n",
      "73: {'language': 'en-US', 'name': 'Joanna-Neural'}\n",
      "74: {'language': 'en-US', 'name': 'Joanna'}\n",
      "75: {'language': 'en-US', 'name': 'Ivy-Neural'}\n",
      "76: {'language': 'en-US', 'name': 'Ivy'}\n",
      "77: {'language': 'en-NZ', 'name': 'Aria-Neural'}\n",
      "78: {'language': 'en-ZA', 'name': 'Ayanda-Neural'}\n",
      "79: {'language': 'en-IN', 'name': 'Raveena'}\n",
      "80: {'language': 'en-IN', 'name': 'Aditi'}\n",
      "81: {'language': 'en-GB', 'name': 'Emma-Neural'}\n",
      "82: {'language': 'en-GB', 'name': 'Emma'}\n",
      "83: {'language': 'en-GB', 'name': 'Brian-Neural'}\n",
      "84: {'language': 'en-GB', 'name': 'Brian'}\n",
      "85: {'language': 'en-GB', 'name': 'Amy-Neural'}\n",
      "86: {'language': 'en-GB', 'name': 'Amy'}\n",
      "87: {'language': 'en-AU', 'name': 'Russell'}\n",
      "88: {'language': 'en-AU', 'name': 'Nicole'}\n",
      "89: {'language': 'en-AU', 'name': 'Olivia-Neural'}\n",
      "90: {'language': 'de-DE', 'name': 'Vicki-Neural'}\n",
      "91: {'language': 'de-DE', 'name': 'Vicki'}\n",
      "92: {'language': 'de-DE', 'name': 'Marlene'}\n",
      "93: {'language': 'de-DE', 'name': 'Hans'}\n",
      "94: {'language': 'da-DK', 'name': 'Naja'}\n",
      "95: {'language': 'da-DK', 'name': 'Mads'}\n",
      "96: {'language': 'da-DK', 'name': 'Sofie-Neural'}\n",
      "97: {'language': 'cy-GB', 'name': 'Gwyneth'}\n",
      "98: {'language': 'zh-CN', 'name': 'Zhiyu-Neural'}\n",
      "99: {'language': 'zh-CN', 'name': 'Zhiyu'}\n",
      "100: {'language': 'arb', 'name': 'Zeina'}\n",
      "101: {'language': 'ar-AE', 'name': 'Hala-Neural'}\n",
      "102: {'language': 'ca-ES', 'name': 'Arlet-Neural'}\n",
      "103: {'language': 'de-AT', 'name': 'Hannah-Neural'}\n",
      "104: {'language': 'en-US', 'name': 'Ruth-Neural'}\n",
      "105: {'language': 'en-US', 'name': 'Stephen-Neural'}\n",
      "106: {'language': 'en-IN', 'name': 'Kajal-Neural'}\n",
      "107: {'language': 'yue-CN', 'name': 'Hiujin-Neural'}\n",
      "108: {'language': 'fi-FI', 'name': 'Suvi-Neural'}\n",
      "109: {'language': 'en-IE', 'name': 'Niamh-Neural'}\n",
      "110: {'language': 'en-GB', 'name': 'Arthur-Neural'}\n",
      "111: {'language': 'de-DE', 'name': 'Daniel-Neural'}\n",
      "112: {'language': 'fr-CA', 'name': 'Liam-Neural'}\n",
      "113: {'language': 'es-US', 'name': 'Pedro-Neural'}\n",
      "114: {'language': 'es-ES', 'name': 'Sergio-Neural'}\n",
      "115: {'language': 'es-MX', 'name': 'Andres-Neural'}\n",
      "116: {'language': 'fr-FR', 'name': 'Remi-Neural'}\n",
      "117: {'language': 'it-IT', 'name': 'Adriano-Neural'}\n",
      "118: {'language': 'pt-BR', 'name': 'Thiago-Neural'}\n",
      "119: {'language': 'ar-AE', 'name': 'Zayd-Neural'}\n"
     ]
    },
    {
     "name": "stdout",
     "output_type": "stream",
     "text": [
      "You have selected the voice: {'language': 'en-US', 'name': 'Gregory-Neural'}\n"
     ]
    },
    {
     "data": {
      "text/plain": [
       "{'message': 'Speaking from url done', 'success': True}"
      ]
     },
     "execution_count": 11,
     "metadata": {},
     "output_type": "execute_result"
    }
   ],
   "source": [
    "from furhat_remote_api import FurhatRemoteAPI\n",
    "import time\n",
    "\n",
    "# Connect to the Furhat robot\n",
    "furhat = FurhatRemoteAPI(\"localhost\")\n",
    "\n",
    "# Retrieve the available voices\n",
    "available_voices = furhat.get_voices()  # This returns a list of voices\n",
    "\n",
    "# Display available voices to the user\n",
    "print(\"Available voices:\")\n",
    "for i, voice in enumerate(available_voices):\n",
    "    print(f\"{i + 1}: {voice}\")\n",
    "\n",
    "# Ask the user to select a voice by entering a number\n",
    "selected_index = int(input(\"Please select a voice by entering the corresponding number: \")) - 1\n",
    "\n",
    "# Validate the selection\n",
    "if 0 <= selected_index < len(available_voices):\n",
    "    selected_voice = available_voices[selected_index]\n",
    "    print(f\"You have selected the voice: {selected_voice}\")\n",
    "    \n",
    "    # Set the selected voice on Furhat\n",
    "    furhat.set_voice(name=selected_voice)\n",
    "    \n",
    "    # Confirm the new voice with a delay to ensure the change is applied\n",
    "    furhat.say(text=f\"Please wait a moment while I switch to the {selected_voice} voice.\", blocking=True)\n",
    "    \n",
    "    # Delay to allow the voice change to take effect\n",
    "    time.sleep(2)  # Adjust the time as necessary\n",
    "    \n",
    "    # Now speak with the new voice\n",
    "    furhat.say(text=f\"Hello! I'm now speaking with the {selected_voice} voice.\", blocking=True)\n",
    "else:\n",
    "    print(\"Invalid selection. Please restart the program and try again.\")\n",
    "\n",
    "# Continue the interaction with the selected voice\n",
    "furhat.say(text=\"How can I assist you today?\", blocking=True)\n"
   ]
  },
  {
   "cell_type": "markdown",
   "metadata": {},
   "source": [
    "****"
   ]
  },
  {
   "cell_type": "markdown",
   "metadata": {},
   "source": [
    "# Alternative Approach"
   ]
  },
  {
   "cell_type": "markdown",
   "metadata": {},
   "source": [
    "**Plan - Separating the abilty to select a voice and then the abilty to apply said voice**"
   ]
  },
  {
   "cell_type": "code",
   "execution_count": 12,
   "metadata": {},
   "outputs": [
    {
     "name": "stdout",
     "output_type": "stream",
     "text": [
      "Available voices: [{'language': 'fr-BE', 'name': 'Isabelle-Neural'}, {'language': 'en-US', 'name': 'Danielle-Neural'}, {'language': 'en-US', 'name': 'Gregory-Neural'}, {'language': 'tr-TR', 'name': 'Burcu-Neural'}, {'language': 'en-US', 'name': 'Kevin-Neural'}, {'language': 'tr-TR', 'name': 'Filiz'}, {'language': 'sv-SE', 'name': 'Elin-Neural'}, {'language': 'sv-SE', 'name': 'Astrid'}, {'language': 'ru-RU', 'name': 'Tatyana'}, {'language': 'ru-RU', 'name': 'Maxim'}, {'language': 'ro-RO', 'name': 'Carmen'}, {'language': 'pt-PT', 'name': 'Ines-Neural'}, {'language': 'pt-PT', 'name': 'Ines'}, {'language': 'pt-PT', 'name': 'Cristiano'}, {'language': 'pt-BR', 'name': 'Vitoria-Neural'}, {'language': 'pt-BR', 'name': 'Vitoria'}, {'language': 'pt-BR', 'name': 'Ricardo'}, {'language': 'pt-BR', 'name': 'Camila-Neural'}, {'language': 'pt-BR', 'name': 'Camila'}, {'language': 'pl-PL', 'name': 'Maja'}, {'language': 'pl-PL', 'name': 'Jan'}, {'language': 'pl-PL', 'name': 'Jacek'}, {'language': 'pl-PL', 'name': 'Ewa'}, {'language': 'pl-PL', 'name': 'Ola-Neural'}, {'language': 'nl-BE', 'name': 'Lisa-Neural'}, {'language': 'nl-NL', 'name': 'Ruben'}, {'language': 'nl-NL', 'name': 'Lotte'}, {'language': 'nl-NL', 'name': 'Laura-Neural'}, {'language': 'nb-NO', 'name': 'Ida-Neural'}, {'language': 'nb-NO', 'name': 'Liv'}, {'language': 'ko-KR', 'name': 'Seoyeon-Neural'}, {'language': 'ko-KR', 'name': 'Seoyeon'}, {'language': 'ja-JP', 'name': 'Kazuha-Neural'}, {'language': 'ja-JP', 'name': 'Tomoko-Neural'}, {'language': 'ja-JP', 'name': 'Takumi-Neural'}, {'language': 'ja-JP', 'name': 'Takumi'}, {'language': 'ja-JP', 'name': 'Mizuki'}, {'language': 'it-IT', 'name': 'Bianca-Neural'}, {'language': 'it-IT', 'name': 'Bianca'}, {'language': 'it-IT', 'name': 'Giorgio'}, {'language': 'it-IT', 'name': 'Carla'}, {'language': 'is-IS', 'name': 'Karl'}, {'language': 'is-IS', 'name': 'Dora'}, {'language': 'fr-FR', 'name': 'Mathieu'}, {'language': 'fr-FR', 'name': 'Lea-Neural'}, {'language': 'fr-FR', 'name': 'Lea'}, {'language': 'fr-FR', 'name': 'Celine'}, {'language': 'fr-CA', 'name': 'Chantal'}, {'language': 'fr-CA', 'name': 'Gabrielle-Neural'}, {'language': 'es-US', 'name': 'Penelope'}, {'language': 'es-MX', 'name': 'Miguel'}, {'language': 'es-US', 'name': 'Lupe-Neural'}, {'language': 'es-MX', 'name': 'Lupe'}, {'language': 'es-MX', 'name': 'Mia-Neural'}, {'language': 'es-MX', 'name': 'Mia'}, {'language': 'es-ES', 'name': 'Lucia-Neural'}, {'language': 'es-ES', 'name': 'Lucia'}, {'language': 'es-ES', 'name': 'Enrique'}, {'language': 'es-ES', 'name': 'Conchita'}, {'language': 'en-GB-WLS', 'name': 'Geraint'}, {'language': 'en-US', 'name': 'Salli-Neural'}, {'language': 'en-US', 'name': 'Salli'}, {'language': 'en-US', 'name': 'Matthew-Neural'}, {'language': 'en-US', 'name': 'Matthew'}, {'language': 'en-US', 'name': 'Kimberly-Neural'}, {'language': 'en-US', 'name': 'Kimberly'}, {'language': 'en-US', 'name': 'Kendra-Neural'}, {'language': 'en-US', 'name': 'Kendra'}, {'language': 'en-US', 'name': 'Justin-Neural'}, {'language': 'en-US', 'name': 'Justin'}, {'language': 'en-US', 'name': 'Joey-Neural'}, {'language': 'en-US', 'name': 'Joey'}, {'language': 'en-US', 'name': 'Joanna-Neural'}, {'language': 'en-US', 'name': 'Joanna'}, {'language': 'en-US', 'name': 'Ivy-Neural'}, {'language': 'en-US', 'name': 'Ivy'}, {'language': 'en-NZ', 'name': 'Aria-Neural'}, {'language': 'en-ZA', 'name': 'Ayanda-Neural'}, {'language': 'en-IN', 'name': 'Raveena'}, {'language': 'en-IN', 'name': 'Aditi'}, {'language': 'en-GB', 'name': 'Emma-Neural'}, {'language': 'en-GB', 'name': 'Emma'}, {'language': 'en-GB', 'name': 'Brian-Neural'}, {'language': 'en-GB', 'name': 'Brian'}, {'language': 'en-GB', 'name': 'Amy-Neural'}, {'language': 'en-GB', 'name': 'Amy'}, {'language': 'en-AU', 'name': 'Russell'}, {'language': 'en-AU', 'name': 'Nicole'}, {'language': 'en-AU', 'name': 'Olivia-Neural'}, {'language': 'de-DE', 'name': 'Vicki-Neural'}, {'language': 'de-DE', 'name': 'Vicki'}, {'language': 'de-DE', 'name': 'Marlene'}, {'language': 'de-DE', 'name': 'Hans'}, {'language': 'da-DK', 'name': 'Naja'}, {'language': 'da-DK', 'name': 'Mads'}, {'language': 'da-DK', 'name': 'Sofie-Neural'}, {'language': 'cy-GB', 'name': 'Gwyneth'}, {'language': 'zh-CN', 'name': 'Zhiyu-Neural'}, {'language': 'zh-CN', 'name': 'Zhiyu'}, {'language': 'arb', 'name': 'Zeina'}, {'language': 'ar-AE', 'name': 'Hala-Neural'}, {'language': 'ca-ES', 'name': 'Arlet-Neural'}, {'language': 'de-AT', 'name': 'Hannah-Neural'}, {'language': 'en-US', 'name': 'Ruth-Neural'}, {'language': 'en-US', 'name': 'Stephen-Neural'}, {'language': 'en-IN', 'name': 'Kajal-Neural'}, {'language': 'yue-CN', 'name': 'Hiujin-Neural'}, {'language': 'fi-FI', 'name': 'Suvi-Neural'}, {'language': 'en-IE', 'name': 'Niamh-Neural'}, {'language': 'en-GB', 'name': 'Arthur-Neural'}, {'language': 'de-DE', 'name': 'Daniel-Neural'}, {'language': 'fr-CA', 'name': 'Liam-Neural'}, {'language': 'es-US', 'name': 'Pedro-Neural'}, {'language': 'es-ES', 'name': 'Sergio-Neural'}, {'language': 'es-MX', 'name': 'Andres-Neural'}, {'language': 'fr-FR', 'name': 'Remi-Neural'}, {'language': 'it-IT', 'name': 'Adriano-Neural'}, {'language': 'pt-BR', 'name': 'Thiago-Neural'}, {'language': 'ar-AE', 'name': 'Zayd-Neural'}]\n"
     ]
    }
   ],
   "source": [
    "# List Availiable Voices\n",
    "available_voices = furhat.get_voices()\n",
    "print(\"Available voices:\", available_voices)"
   ]
  },
  {
   "cell_type": "markdown",
   "metadata": {},
   "source": [
    "**List English(EN) based Voices**"
   ]
  },
  {
   "cell_type": "code",
   "execution_count": 39,
   "metadata": {},
   "outputs": [
    {
     "name": "stdout",
     "output_type": "stream",
     "text": [
      "Available English voices:\n",
      "1: Danielle-Neural - en-US\n",
      "2: Gregory-Neural - en-US\n",
      "3: Kevin-Neural - en-US\n",
      "4: Geraint - en-GB-WLS\n",
      "5: Salli-Neural - en-US\n",
      "6: Salli - en-US\n",
      "7: Matthew-Neural - en-US\n",
      "8: Matthew - en-US\n",
      "9: Kimberly-Neural - en-US\n",
      "10: Kimberly - en-US\n",
      "11: Kendra-Neural - en-US\n",
      "12: Kendra - en-US\n",
      "13: Justin-Neural - en-US\n",
      "14: Justin - en-US\n",
      "15: Joey-Neural - en-US\n",
      "16: Joey - en-US\n",
      "17: Joanna-Neural - en-US\n",
      "18: Joanna - en-US\n",
      "19: Ivy-Neural - en-US\n",
      "20: Ivy - en-US\n",
      "21: Aria-Neural - en-NZ\n",
      "22: Ayanda-Neural - en-ZA\n",
      "23: Raveena - en-IN\n",
      "24: Aditi - en-IN\n",
      "25: Emma-Neural - en-GB\n",
      "26: Emma - en-GB\n",
      "27: Brian-Neural - en-GB\n",
      "28: Brian - en-GB\n",
      "29: Amy-Neural - en-GB\n",
      "30: Amy - en-GB\n",
      "31: Russell - en-AU\n",
      "32: Nicole - en-AU\n",
      "33: Olivia-Neural - en-AU\n",
      "34: Ruth-Neural - en-US\n",
      "35: Stephen-Neural - en-US\n",
      "36: Kajal-Neural - en-IN\n",
      "37: Niamh-Neural - en-IE\n",
      "38: Arthur-Neural - en-GB\n"
     ]
    }
   ],
   "source": [
    "from furhat_remote_api import FurhatRemoteAPI\n",
    "\n",
    "def list_english_voices():\n",
    "    # Connect to the Furhat robot\n",
    "    furhat = FurhatRemoteAPI(\"localhost\")\n",
    "\n",
    "    # Retrieve all available voices\n",
    "    all_voices = furhat.get_voices()\n",
    "\n",
    "    # Filter voices for those speaking English\n",
    "    english_voices = [voice for voice in all_voices if 'en' in voice.language.lower()]\n",
    "\n",
    "    # Check if there are any English voices available\n",
    "    if not english_voices:\n",
    "        print(\"No English voices are available.\")\n",
    "        return\n",
    "\n",
    "    # Display the available English voices\n",
    "    print(\"Available English voices:\")\n",
    "    for i, voice in enumerate(english_voices):\n",
    "        print(f\"{i + 1}: {voice.name} - {voice.language}\")\n",
    "\n",
    "    return english_voices\n",
    "\n",
    "# Example of running the function\n",
    "english_voices = list_english_voices()"
   ]
  },
  {
   "cell_type": "markdown",
   "metadata": {},
   "source": [
    "**Test whether a voice could be switch**"
   ]
  },
  {
   "cell_type": "code",
   "execution_count": 17,
   "metadata": {},
   "outputs": [
    {
     "name": "stdout",
     "output_type": "stream",
     "text": [
      "Voice switch response: {'message': 'Successfully changed Furhat voice', 'success': True}\n"
     ]
    }
   ],
   "source": [
    "# Set the selected voice on Furhat\n",
    "response = furhat.set_voice(name='Gregory-Neural')\n",
    "print(f\"Voice switch response: {response}\")"
   ]
  },
  {
   "cell_type": "code",
   "execution_count": 19,
   "metadata": {},
   "outputs": [
    {
     "name": "stdout",
     "output_type": "stream",
     "text": [
      "Attempting to switch to voice: Danielle-Neural\n",
      "Voice switch response: {'message': 'Successfully changed Furhat voice', 'success': True}\n"
     ]
    },
    {
     "data": {
      "text/plain": [
       "{'message': 'Speaking from url', 'success': True}"
      ]
     },
     "execution_count": 19,
     "metadata": {},
     "output_type": "execute_result"
    }
   ],
   "source": [
    "from furhat_remote_api import FurhatRemoteAPI\n",
    "\n",
    "# Connect to the Furhat robot\n",
    "furhat = FurhatRemoteAPI(\"localhost\")\n",
    "\n",
    "# Directly set a known voice (replace 'YourVoiceName' with a valid voice from your list)\n",
    "selected_voice = 'Danielle-Neural'\n",
    "response = furhat.set_voice(name=selected_voice)\n",
    "print(f\"Attempting to switch to voice: {selected_voice}\")\n",
    "print(f\"Voice switch response: {response}\")\n",
    "\n",
    "# Confirm the voice change\n",
    "furhat.say(text=f\"Hello! I'm now speaking with the {selected_voice} voice.\")\n"
   ]
  },
  {
   "cell_type": "markdown",
   "metadata": {},
   "source": [
    "****"
   ]
  },
  {
   "cell_type": "markdown",
   "metadata": {},
   "source": [
    "# Store Selected Voice"
   ]
  },
  {
   "cell_type": "code",
   "execution_count": 36,
   "metadata": {},
   "outputs": [],
   "source": [
    "from furhat_remote_api import FurhatRemoteAPI\n",
    "\n",
    "def select_voice():\n",
    "    # Connect to the Furhat robot\n",
    "    furhat = FurhatRemoteAPI(\"localhost\")\n",
    "\n",
    "    # Retrieve all available voices\n",
    "    all_voices = furhat.get_voices()\n",
    "\n",
    "    # Filter voices for those speaking English\n",
    "    english_voices = [voice for voice in all_voices if 'en' in voice.language.lower()]\n",
    "\n",
    "    # Check if there are any English voices available\n",
    "    if not english_voices:\n",
    "        print(\"No English voices are available.\")\n",
    "        return\n",
    "\n",
    "    # Display the available English voices\n",
    "    print(\"Available English voices:\")\n",
    "    for i, voice in enumerate(english_voices):\n",
    "        print(f\"{i + 1}: {voice.name}\")\n",
    "\n",
    "    # Ask the user to select a voice by entering a number\n",
    "    selected_index = int(input(\"Please select a voice by entering the corresponding number: \")) - 1\n",
    "\n",
    "    # Validate the selection\n",
    "    if 0 <= selected_index < len(english_voices):\n",
    "        selected_voice = english_voices[selected_index]\n",
    "        selected_voice_name = selected_voice.name\n",
    "        print(f\"You have selected the voice: {selected_voice_name}\")\n",
    "\n",
    "        # Store the selected voice name to a file\n",
    "        with open(\"selected_voice.txt\", \"w\") as file:\n",
    "            file.write(selected_voice_name)\n",
    "\n",
    "        print(\"Voice selection stored successfully.\")\n",
    "    else:\n",
    "        print(\"Invalid selection. Please restart the program and try again.\")\n"
   ]
  },
  {
   "cell_type": "code",
   "execution_count": 37,
   "metadata": {},
   "outputs": [
    {
     "name": "stdout",
     "output_type": "stream",
     "text": [
      "Available English voices:\n",
      "1: Danielle-Neural\n",
      "2: Gregory-Neural\n",
      "3: Kevin-Neural\n",
      "4: Geraint\n",
      "5: Salli-Neural\n",
      "6: Salli\n",
      "7: Matthew-Neural\n",
      "8: Matthew\n",
      "9: Kimberly-Neural\n",
      "10: Kimberly\n",
      "11: Kendra-Neural\n",
      "12: Kendra\n",
      "13: Justin-Neural\n",
      "14: Justin\n",
      "15: Joey-Neural\n",
      "16: Joey\n",
      "17: Joanna-Neural\n",
      "18: Joanna\n",
      "19: Ivy-Neural\n",
      "20: Ivy\n",
      "21: Aria-Neural\n",
      "22: Ayanda-Neural\n",
      "23: Raveena\n",
      "24: Aditi\n",
      "25: Emma-Neural\n",
      "26: Emma\n",
      "27: Brian-Neural\n",
      "28: Brian\n",
      "29: Amy-Neural\n",
      "30: Amy\n",
      "31: Russell\n",
      "32: Nicole\n",
      "33: Olivia-Neural\n",
      "34: Ruth-Neural\n",
      "35: Stephen-Neural\n",
      "36: Kajal-Neural\n",
      "37: Niamh-Neural\n",
      "38: Arthur-Neural\n"
     ]
    },
    {
     "name": "stdout",
     "output_type": "stream",
     "text": [
      "You have selected the voice: Geraint\n",
      "Voice selection stored successfully.\n"
     ]
    }
   ],
   "source": [
    "select_voice()"
   ]
  },
  {
   "cell_type": "markdown",
   "metadata": {},
   "source": [
    "# Apply Selected Voice"
   ]
  },
  {
   "cell_type": "code",
   "execution_count": 1,
   "metadata": {},
   "outputs": [],
   "source": [
    "def apply_voice():\n",
    "    from furhat_remote_api import FurhatRemoteAPI\n",
    "\n",
    "    # Connect to the Furhat robot\n",
    "    furhat = FurhatRemoteAPI(\"localhost\")\n",
    "    \n",
    "    # Read the selected voice from the file\n",
    "    try:\n",
    "        with open(\"selected_voice.txt\", \"r\") as file:\n",
    "            selected_voice_name = file.read().strip()\n",
    "        \n",
    "        # Check if the voice is valid\n",
    "        available_voices = furhat.get_voices()\n",
    "        voice_names = [voice.name for voice in available_voices]\n",
    "        if selected_voice_name in voice_names:\n",
    "            # Set the selected voice on Furhat\n",
    "            response = furhat.set_voice(name=selected_voice_name)\n",
    "            print(f\"Voice switch response: {response}\")\n",
    "            \n",
    "            # Confirm the new voice with a delay to ensure the change is applied\n",
    "            furhat.say(text=f\"Please wait a moment while I switch to the {selected_voice_name} voice.\", blocking=True)\n",
    "            \n",
    "            # Delay to allow the voice change to take effect\n",
    "            import time\n",
    "            time.sleep(2)  # Adjust the time as necessary\n",
    "            \n",
    "            # Now speak with the new voice\n",
    "            furhat.say(text=f\"Hello! I'm now speaking with the {selected_voice_name} voice.\", blocking=True)\n",
    "        else:\n",
    "            print(f\"Selected voice '{selected_voice_name}' is not available.\")\n",
    "    \n",
    "    except FileNotFoundError:\n",
    "        print(\"No voice selection found. Please select a voice first.\")"
   ]
  },
  {
   "cell_type": "code",
   "execution_count": 2,
   "metadata": {},
   "outputs": [
    {
     "name": "stdout",
     "output_type": "stream",
     "text": [
      "No voice selection found. Please select a voice first.\n"
     ]
    }
   ],
   "source": [
    "apply_voice()"
   ]
  }
 ],
 "metadata": {
  "kernelspec": {
   "display_name": "Python 3",
   "language": "python",
   "name": "python3"
  },
  "language_info": {
   "codemirror_mode": {
    "name": "ipython",
    "version": 3
   },
   "file_extension": ".py",
   "mimetype": "text/x-python",
   "name": "python",
   "nbconvert_exporter": "python",
   "pygments_lexer": "ipython3",
   "version": "3.11.9"
  }
 },
 "nbformat": 4,
 "nbformat_minor": 2
}
